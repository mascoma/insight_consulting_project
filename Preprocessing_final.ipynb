{
 "cells": [
  {
   "cell_type": "markdown",
   "metadata": {},
   "source": [
    "# Final report for Spire consulting project-preprocessing"
   ]
  },
  {
   "cell_type": "code",
   "execution_count": 1,
   "metadata": {
    "collapsed": false
   },
   "outputs": [
    {
     "name": "stderr",
     "output_type": "stream",
     "text": [
      "/Users/Xin/anaconda/envs/py27/lib/python2.7/site-packages/matplotlib/font_manager.py:273: UserWarning: Matplotlib is building the font cache using fc-list. This may take a moment.\n",
      "  warnings.warn('Matplotlib is building the font cache using fc-list. This may take a moment.')\n",
      "/Users/Xin/anaconda/envs/py27/lib/python2.7/site-packages/sklearn/cross_validation.py:44: DeprecationWarning: This module was deprecated in version 0.18 in favor of the model_selection module into which all the refactored classes and functions are moved. Also note that the interface of the new CV iterators are different from that of this module. This module will be removed in 0.20.\n",
      "  \"This module will be removed in 0.20.\", DeprecationWarning)\n"
     ]
    }
   ],
   "source": [
    "import matplotlib.pyplot as plt\n",
    "import numpy as np\n",
    "import pandas as pd\n",
    "from sqlalchemy import create_engine\n",
    "from sqlalchemy_utils import database_exists, create_database\n",
    "import psycopg2\n",
    "import supportfun\n",
    "import math\n",
    "from datetime import datetime, date, time\n",
    "import make_graph"
   ]
  },
  {
   "cell_type": "code",
   "execution_count": 3,
   "metadata": {
    "collapsed": false
   },
   "outputs": [
    {
     "data": {
      "text/plain": [
       "1"
      ]
     },
     "execution_count": 3,
     "metadata": {},
     "output_type": "execute_result"
    }
   ],
   "source": [
    "df1 = pd.read_table(\"../input/untitled-report-37c8b2238fc5-2016-09-21-05-54-02.csv\", delimiter = ',')\n",
    "len(df1.md5.value_counts().index) # one user"
   ]
  },
  {
   "cell_type": "code",
   "execution_count": 4,
   "metadata": {
    "collapsed": true
   },
   "outputs": [],
   "source": [
    "df1 = df1.drop_duplicates() # remove duplications"
   ]
  },
  {
   "cell_type": "code",
   "execution_count": 6,
   "metadata": {
    "collapsed": false
   },
   "outputs": [
    {
     "name": "stderr",
     "output_type": "stream",
     "text": [
      "/Users/Xin/anaconda/envs/py27/lib/python2.7/site-packages/pandas/core/generic.py:2701: SettingWithCopyWarning: \n",
      "A value is trying to be set on a copy of a slice from a DataFrame.\n",
      "Try using .loc[row_indexer,col_indexer] = value instead\n",
      "\n",
      "See the caveats in the documentation: http://pandas.pydata.org/pandas-docs/stable/indexing.html#indexing-view-versus-copy\n",
      "  self[name] = value\n",
      "supportfun.py:109: SettingWithCopyWarning: \n",
      "A value is trying to be set on a copy of a slice from a DataFrame.\n",
      "Try using .loc[row_indexer,col_indexer] = value instead\n",
      "\n",
      "See the caveats in the documentation: http://pandas.pydata.org/pandas-docs/stable/indexing.html#indexing-view-versus-copy\n",
      "  df_clean_ext['record_min'] = time_min_ext\n"
     ]
    }
   ],
   "source": [
    "df1_clean_ext = supportfun.feature_engineering(df1) # feature engineering "
   ]
  },
  {
   "cell_type": "code",
   "execution_count": 7,
   "metadata": {
    "collapsed": true
   },
   "outputs": [],
   "source": [
    "df1_clean_ext.to_csv(\"df1_clean_ext.csv\", sep = ',', header = False) # save this part in \"df1_clean_ext.csv\""
   ]
  },
  {
   "cell_type": "code",
   "execution_count": 8,
   "metadata": {
    "collapsed": false
   },
   "outputs": [
    {
     "data": {
      "text/plain": [
       "181"
      ]
     },
     "execution_count": 8,
     "metadata": {},
     "output_type": "execute_result"
    }
   ],
   "source": [
    "df2 = pd.read_table(\"../input/untitled-report-6ff84c35c328-2016-09-21-05-00-03.csv\", delimiter = ',')\n",
    "len(df2.md5.value_counts().index) # 181 users"
   ]
  },
  {
   "cell_type": "code",
   "execution_count": 9,
   "metadata": {
    "collapsed": false
   },
   "outputs": [
    {
     "name": "stderr",
     "output_type": "stream",
     "text": [
      "supportfun.py:38: SettingWithCopyWarning: \n",
      "A value is trying to be set on a copy of a slice from a DataFrame.\n",
      "Try using .loc[row_indexer,col_indexer] = value instead\n",
      "\n",
      "See the caveats in the documentation: http://pandas.pydata.org/pandas-docs/stable/indexing.html#indexing-view-versus-copy\n",
      "  df['time_len'] = time_len.values()\n",
      "supportfun.py:60: SettingWithCopyWarning: \n",
      "A value is trying to be set on a copy of a slice from a DataFrame.\n",
      "Try using .loc[row_indexer,col_indexer] = value instead\n",
      "\n",
      "See the caveats in the documentation: http://pandas.pydata.org/pandas-docs/stable/indexing.html#indexing-view-versus-copy\n",
      "  df['start_year'] = year_start.values()\n",
      "supportfun.py:61: SettingWithCopyWarning: \n",
      "A value is trying to be set on a copy of a slice from a DataFrame.\n",
      "Try using .loc[row_indexer,col_indexer] = value instead\n",
      "\n",
      "See the caveats in the documentation: http://pandas.pydata.org/pandas-docs/stable/indexing.html#indexing-view-versus-copy\n",
      "  df['start_month'] = month_start.values()\n",
      "supportfun.py:62: SettingWithCopyWarning: \n",
      "A value is trying to be set on a copy of a slice from a DataFrame.\n",
      "Try using .loc[row_indexer,col_indexer] = value instead\n",
      "\n",
      "See the caveats in the documentation: http://pandas.pydata.org/pandas-docs/stable/indexing.html#indexing-view-versus-copy\n",
      "  df['start_day'] = day_start.values()\n",
      "supportfun.py:63: SettingWithCopyWarning: \n",
      "A value is trying to be set on a copy of a slice from a DataFrame.\n",
      "Try using .loc[row_indexer,col_indexer] = value instead\n",
      "\n",
      "See the caveats in the documentation: http://pandas.pydata.org/pandas-docs/stable/indexing.html#indexing-view-versus-copy\n",
      "  df['weekday'] = weekday.values() # monday is 0, sunday is 6\n",
      "supportfun.py:64: SettingWithCopyWarning: \n",
      "A value is trying to be set on a copy of a slice from a DataFrame.\n",
      "Try using .loc[row_indexer,col_indexer] = value instead\n",
      "\n",
      "See the caveats in the documentation: http://pandas.pydata.org/pandas-docs/stable/indexing.html#indexing-view-versus-copy\n",
      "  df['time_minutes'] = time_minutes\n",
      "supportfun.py:65: SettingWithCopyWarning: \n",
      "A value is trying to be set on a copy of a slice from a DataFrame.\n",
      "Try using .loc[row_indexer,col_indexer] = value instead\n",
      "\n",
      "See the caveats in the documentation: http://pandas.pydata.org/pandas-docs/stable/indexing.html#indexing-view-versus-copy\n",
      "  df['start_ymd'], df['start_time'] = df['start_at'].str.split(' ', 1).str\n",
      "supportfun.py:74: SettingWithCopyWarning: \n",
      "A value is trying to be set on a copy of a slice from a DataFrame.\n",
      "Try using .loc[row_indexer,col_indexer] = value instead\n",
      "\n",
      "See the caveats in the documentation: http://pandas.pydata.org/pandas-docs/stable/indexing.html#indexing-view-versus-copy\n",
      "  df['weekday_bi'] = weekday_bi.values()\n",
      "supportfun.py:80: SettingWithCopyWarning: \n",
      "A value is trying to be set on a copy of a slice from a DataFrame.\n",
      "Try using .loc[row_indexer,col_indexer] = value instead\n",
      "\n",
      "See the caveats in the documentation: http://pandas.pydata.org/pandas-docs/stable/indexing.html#indexing-view-versus-copy\n",
      "  df['replicates'] = rep.values()\n"
     ]
    }
   ],
   "source": [
    "df2 = df2.drop_duplicates()\n",
    "df2_short = df2[df2.md5 != df2.md5.value_counts().index[0]] # remove the records of the user with the most records\n",
    "df2_short_clean_ext = supportfun.feature_engineering(df2_short) # feature engineering\n",
    "df2_short_clean_ext.to_csv(\"df2_short_clean_ext.csv\", sep = ',')  # save to file"
   ]
  },
  {
   "cell_type": "code",
   "execution_count": 10,
   "metadata": {
    "collapsed": true
   },
   "outputs": [],
   "source": [
    "df2_00 = df2[df2.md5 == df2.md5.value_counts().index[0]] # records of the first user\n",
    "df2_00_clean_ext = supportfun.feature_engineering(df2_00) # feature engineering \n",
    "df2_00_clean_ext.to_csv(\"df2_00_clean_ext.csv\", sep = ',', header = False) # save to file"
   ]
  },
  {
   "cell_type": "code",
   "execution_count": 15,
   "metadata": {
    "collapsed": false
   },
   "outputs": [
    {
     "data": {
      "text/html": [
       "<div>\n",
       "<table border=\"1\" class=\"dataframe\">\n",
       "  <thead>\n",
       "    <tr style=\"text-align: right;\">\n",
       "      <th></th>\n",
       "      <th>streak_type</th>\n",
       "      <th>start_at</th>\n",
       "      <th>stop_at</th>\n",
       "      <th>local_start_at</th>\n",
       "      <th>local_stop_at</th>\n",
       "      <th>md5</th>\n",
       "      <th>time_len</th>\n",
       "      <th>start_year</th>\n",
       "      <th>start_month</th>\n",
       "      <th>start_day</th>\n",
       "      <th>weekday</th>\n",
       "      <th>time_minutes</th>\n",
       "      <th>start_ymd</th>\n",
       "      <th>start_time</th>\n",
       "      <th>weekday_bi</th>\n",
       "      <th>replicates</th>\n",
       "      <th>record_min</th>\n",
       "    </tr>\n",
       "  </thead>\n",
       "  <tbody>\n",
       "    <tr>\n",
       "      <th>194110</th>\n",
       "      <td>1</td>\n",
       "      <td>2015-09-09 07:14:51</td>\n",
       "      <td>2015-09-09 07:27:54</td>\n",
       "      <td>2015-09-09 15:14:51</td>\n",
       "      <td>2015-09-09 15:27:54</td>\n",
       "      <td>58041dd9a1b54db7c7424c236e951023</td>\n",
       "      <td>783.0</td>\n",
       "      <td>2015</td>\n",
       "      <td>9</td>\n",
       "      <td>9</td>\n",
       "      <td>2</td>\n",
       "      <td>914</td>\n",
       "      <td>2015-09-09</td>\n",
       "      <td>07:14:51</td>\n",
       "      <td>0</td>\n",
       "      <td>15</td>\n",
       "      <td>914</td>\n",
       "    </tr>\n",
       "    <tr>\n",
       "      <th>194110</th>\n",
       "      <td>1</td>\n",
       "      <td>2015-09-09 07:14:51</td>\n",
       "      <td>2015-09-09 07:27:54</td>\n",
       "      <td>2015-09-09 15:14:51</td>\n",
       "      <td>2015-09-09 15:27:54</td>\n",
       "      <td>58041dd9a1b54db7c7424c236e951023</td>\n",
       "      <td>783.0</td>\n",
       "      <td>2015</td>\n",
       "      <td>9</td>\n",
       "      <td>9</td>\n",
       "      <td>2</td>\n",
       "      <td>914</td>\n",
       "      <td>2015-09-09</td>\n",
       "      <td>07:14:51</td>\n",
       "      <td>0</td>\n",
       "      <td>15</td>\n",
       "      <td>915</td>\n",
       "    </tr>\n",
       "    <tr>\n",
       "      <th>194110</th>\n",
       "      <td>1</td>\n",
       "      <td>2015-09-09 07:14:51</td>\n",
       "      <td>2015-09-09 07:27:54</td>\n",
       "      <td>2015-09-09 15:14:51</td>\n",
       "      <td>2015-09-09 15:27:54</td>\n",
       "      <td>58041dd9a1b54db7c7424c236e951023</td>\n",
       "      <td>783.0</td>\n",
       "      <td>2015</td>\n",
       "      <td>9</td>\n",
       "      <td>9</td>\n",
       "      <td>2</td>\n",
       "      <td>914</td>\n",
       "      <td>2015-09-09</td>\n",
       "      <td>07:14:51</td>\n",
       "      <td>0</td>\n",
       "      <td>15</td>\n",
       "      <td>916</td>\n",
       "    </tr>\n",
       "    <tr>\n",
       "      <th>194110</th>\n",
       "      <td>1</td>\n",
       "      <td>2015-09-09 07:14:51</td>\n",
       "      <td>2015-09-09 07:27:54</td>\n",
       "      <td>2015-09-09 15:14:51</td>\n",
       "      <td>2015-09-09 15:27:54</td>\n",
       "      <td>58041dd9a1b54db7c7424c236e951023</td>\n",
       "      <td>783.0</td>\n",
       "      <td>2015</td>\n",
       "      <td>9</td>\n",
       "      <td>9</td>\n",
       "      <td>2</td>\n",
       "      <td>914</td>\n",
       "      <td>2015-09-09</td>\n",
       "      <td>07:14:51</td>\n",
       "      <td>0</td>\n",
       "      <td>15</td>\n",
       "      <td>917</td>\n",
       "    </tr>\n",
       "    <tr>\n",
       "      <th>194110</th>\n",
       "      <td>1</td>\n",
       "      <td>2015-09-09 07:14:51</td>\n",
       "      <td>2015-09-09 07:27:54</td>\n",
       "      <td>2015-09-09 15:14:51</td>\n",
       "      <td>2015-09-09 15:27:54</td>\n",
       "      <td>58041dd9a1b54db7c7424c236e951023</td>\n",
       "      <td>783.0</td>\n",
       "      <td>2015</td>\n",
       "      <td>9</td>\n",
       "      <td>9</td>\n",
       "      <td>2</td>\n",
       "      <td>914</td>\n",
       "      <td>2015-09-09</td>\n",
       "      <td>07:14:51</td>\n",
       "      <td>0</td>\n",
       "      <td>15</td>\n",
       "      <td>918</td>\n",
       "    </tr>\n",
       "  </tbody>\n",
       "</table>\n",
       "</div>"
      ],
      "text/plain": [
       "       streak_type             start_at              stop_at  \\\n",
       "194110           1  2015-09-09 07:14:51  2015-09-09 07:27:54   \n",
       "194110           1  2015-09-09 07:14:51  2015-09-09 07:27:54   \n",
       "194110           1  2015-09-09 07:14:51  2015-09-09 07:27:54   \n",
       "194110           1  2015-09-09 07:14:51  2015-09-09 07:27:54   \n",
       "194110           1  2015-09-09 07:14:51  2015-09-09 07:27:54   \n",
       "\n",
       "             local_start_at        local_stop_at  \\\n",
       "194110  2015-09-09 15:14:51  2015-09-09 15:27:54   \n",
       "194110  2015-09-09 15:14:51  2015-09-09 15:27:54   \n",
       "194110  2015-09-09 15:14:51  2015-09-09 15:27:54   \n",
       "194110  2015-09-09 15:14:51  2015-09-09 15:27:54   \n",
       "194110  2015-09-09 15:14:51  2015-09-09 15:27:54   \n",
       "\n",
       "                                     md5  time_len  start_year  start_month  \\\n",
       "194110  58041dd9a1b54db7c7424c236e951023     783.0        2015            9   \n",
       "194110  58041dd9a1b54db7c7424c236e951023     783.0        2015            9   \n",
       "194110  58041dd9a1b54db7c7424c236e951023     783.0        2015            9   \n",
       "194110  58041dd9a1b54db7c7424c236e951023     783.0        2015            9   \n",
       "194110  58041dd9a1b54db7c7424c236e951023     783.0        2015            9   \n",
       "\n",
       "        start_day  weekday  time_minutes   start_ymd start_time  weekday_bi  \\\n",
       "194110          9        2           914  2015-09-09   07:14:51           0   \n",
       "194110          9        2           914  2015-09-09   07:14:51           0   \n",
       "194110          9        2           914  2015-09-09   07:14:51           0   \n",
       "194110          9        2           914  2015-09-09   07:14:51           0   \n",
       "194110          9        2           914  2015-09-09   07:14:51           0   \n",
       "\n",
       "        replicates  record_min  \n",
       "194110          15         914  \n",
       "194110          15         915  \n",
       "194110          15         916  \n",
       "194110          15         917  \n",
       "194110          15         918  "
      ]
     },
     "execution_count": 15,
     "metadata": {},
     "output_type": "execute_result"
    }
   ],
   "source": [
    "df2_00_clean_ext.head()"
   ]
  },
  {
   "cell_type": "code",
   "execution_count": 2,
   "metadata": {
    "collapsed": false
   },
   "outputs": [
    {
     "name": "stderr",
     "output_type": "stream",
     "text": [
      "/Users/Xin/anaconda/envs/py27/lib/python2.7/site-packages/IPython/core/interactiveshell.py:2717: DtypeWarning: Columns (1) have mixed types. Specify dtype option on import or set low_memory=False.\n",
      "  interactivity=interactivity, compiler=compiler, result=result)\n"
     ]
    }
   ],
   "source": [
    "df_all = pd.read_table(\"../input/df_all.csv\", delimiter = ',') #concatenated extended csv files and load in"
   ]
  },
  {
   "cell_type": "code",
   "execution_count": 3,
   "metadata": {
    "collapsed": false
   },
   "outputs": [
    {
     "data": {
      "text/html": [
       "<div>\n",
       "<table border=\"1\" class=\"dataframe\">\n",
       "  <thead>\n",
       "    <tr style=\"text-align: right;\">\n",
       "      <th></th>\n",
       "      <th>Unnamed: 0</th>\n",
       "      <th>streak_type</th>\n",
       "      <th>start_at</th>\n",
       "      <th>stop_at</th>\n",
       "      <th>local_start_at</th>\n",
       "      <th>local_stop_at</th>\n",
       "      <th>md5</th>\n",
       "      <th>time_len</th>\n",
       "      <th>start_year</th>\n",
       "      <th>start_month</th>\n",
       "      <th>start_day</th>\n",
       "      <th>weekday</th>\n",
       "      <th>time_minutes</th>\n",
       "      <th>start_ymd</th>\n",
       "      <th>start_time</th>\n",
       "      <th>weekday_bi</th>\n",
       "      <th>replicates</th>\n",
       "      <th>record_min</th>\n",
       "    </tr>\n",
       "  </thead>\n",
       "  <tbody>\n",
       "    <tr>\n",
       "      <th>0</th>\n",
       "      <td>0</td>\n",
       "      <td>1</td>\n",
       "      <td>2014-11-29 23:33:14</td>\n",
       "      <td>2014-11-29 23:37:15</td>\n",
       "      <td>2014-11-29 15:33:14</td>\n",
       "      <td>2014-11-29 15:37:15</td>\n",
       "      <td>20ed348fea1387b68b41b0f68699dcc0</td>\n",
       "      <td>241.0</td>\n",
       "      <td>2014</td>\n",
       "      <td>11</td>\n",
       "      <td>29</td>\n",
       "      <td>5</td>\n",
       "      <td>933</td>\n",
       "      <td>2014-11-29</td>\n",
       "      <td>23:33:14</td>\n",
       "      <td>1</td>\n",
       "      <td>6</td>\n",
       "      <td>933</td>\n",
       "    </tr>\n",
       "    <tr>\n",
       "      <th>1</th>\n",
       "      <td>0</td>\n",
       "      <td>1</td>\n",
       "      <td>2014-11-29 23:33:14</td>\n",
       "      <td>2014-11-29 23:37:15</td>\n",
       "      <td>2014-11-29 15:33:14</td>\n",
       "      <td>2014-11-29 15:37:15</td>\n",
       "      <td>20ed348fea1387b68b41b0f68699dcc0</td>\n",
       "      <td>241.0</td>\n",
       "      <td>2014</td>\n",
       "      <td>11</td>\n",
       "      <td>29</td>\n",
       "      <td>5</td>\n",
       "      <td>933</td>\n",
       "      <td>2014-11-29</td>\n",
       "      <td>23:33:14</td>\n",
       "      <td>1</td>\n",
       "      <td>6</td>\n",
       "      <td>934</td>\n",
       "    </tr>\n",
       "    <tr>\n",
       "      <th>2</th>\n",
       "      <td>0</td>\n",
       "      <td>1</td>\n",
       "      <td>2014-11-29 23:33:14</td>\n",
       "      <td>2014-11-29 23:37:15</td>\n",
       "      <td>2014-11-29 15:33:14</td>\n",
       "      <td>2014-11-29 15:37:15</td>\n",
       "      <td>20ed348fea1387b68b41b0f68699dcc0</td>\n",
       "      <td>241.0</td>\n",
       "      <td>2014</td>\n",
       "      <td>11</td>\n",
       "      <td>29</td>\n",
       "      <td>5</td>\n",
       "      <td>933</td>\n",
       "      <td>2014-11-29</td>\n",
       "      <td>23:33:14</td>\n",
       "      <td>1</td>\n",
       "      <td>6</td>\n",
       "      <td>935</td>\n",
       "    </tr>\n",
       "    <tr>\n",
       "      <th>3</th>\n",
       "      <td>0</td>\n",
       "      <td>1</td>\n",
       "      <td>2014-11-29 23:33:14</td>\n",
       "      <td>2014-11-29 23:37:15</td>\n",
       "      <td>2014-11-29 15:33:14</td>\n",
       "      <td>2014-11-29 15:37:15</td>\n",
       "      <td>20ed348fea1387b68b41b0f68699dcc0</td>\n",
       "      <td>241.0</td>\n",
       "      <td>2014</td>\n",
       "      <td>11</td>\n",
       "      <td>29</td>\n",
       "      <td>5</td>\n",
       "      <td>933</td>\n",
       "      <td>2014-11-29</td>\n",
       "      <td>23:33:14</td>\n",
       "      <td>1</td>\n",
       "      <td>6</td>\n",
       "      <td>936</td>\n",
       "    </tr>\n",
       "    <tr>\n",
       "      <th>4</th>\n",
       "      <td>0</td>\n",
       "      <td>1</td>\n",
       "      <td>2014-11-29 23:33:14</td>\n",
       "      <td>2014-11-29 23:37:15</td>\n",
       "      <td>2014-11-29 15:33:14</td>\n",
       "      <td>2014-11-29 15:37:15</td>\n",
       "      <td>20ed348fea1387b68b41b0f68699dcc0</td>\n",
       "      <td>241.0</td>\n",
       "      <td>2014</td>\n",
       "      <td>11</td>\n",
       "      <td>29</td>\n",
       "      <td>5</td>\n",
       "      <td>933</td>\n",
       "      <td>2014-11-29</td>\n",
       "      <td>23:33:14</td>\n",
       "      <td>1</td>\n",
       "      <td>6</td>\n",
       "      <td>937</td>\n",
       "    </tr>\n",
       "  </tbody>\n",
       "</table>\n",
       "</div>"
      ],
      "text/plain": [
       "   Unnamed: 0 streak_type             start_at              stop_at  \\\n",
       "0           0           1  2014-11-29 23:33:14  2014-11-29 23:37:15   \n",
       "1           0           1  2014-11-29 23:33:14  2014-11-29 23:37:15   \n",
       "2           0           1  2014-11-29 23:33:14  2014-11-29 23:37:15   \n",
       "3           0           1  2014-11-29 23:33:14  2014-11-29 23:37:15   \n",
       "4           0           1  2014-11-29 23:33:14  2014-11-29 23:37:15   \n",
       "\n",
       "        local_start_at        local_stop_at                               md5  \\\n",
       "0  2014-11-29 15:33:14  2014-11-29 15:37:15  20ed348fea1387b68b41b0f68699dcc0   \n",
       "1  2014-11-29 15:33:14  2014-11-29 15:37:15  20ed348fea1387b68b41b0f68699dcc0   \n",
       "2  2014-11-29 15:33:14  2014-11-29 15:37:15  20ed348fea1387b68b41b0f68699dcc0   \n",
       "3  2014-11-29 15:33:14  2014-11-29 15:37:15  20ed348fea1387b68b41b0f68699dcc0   \n",
       "4  2014-11-29 15:33:14  2014-11-29 15:37:15  20ed348fea1387b68b41b0f68699dcc0   \n",
       "\n",
       "   time_len  start_year  start_month  start_day  weekday  time_minutes  \\\n",
       "0     241.0        2014           11         29        5           933   \n",
       "1     241.0        2014           11         29        5           933   \n",
       "2     241.0        2014           11         29        5           933   \n",
       "3     241.0        2014           11         29        5           933   \n",
       "4     241.0        2014           11         29        5           933   \n",
       "\n",
       "    start_ymd start_time  weekday_bi  replicates  record_min  \n",
       "0  2014-11-29   23:33:14           1           6         933  \n",
       "1  2014-11-29   23:33:14           1           6         934  \n",
       "2  2014-11-29   23:33:14           1           6         935  \n",
       "3  2014-11-29   23:33:14           1           6         936  \n",
       "4  2014-11-29   23:33:14           1           6         937  "
      ]
     },
     "execution_count": 3,
     "metadata": {},
     "output_type": "execute_result"
    }
   ],
   "source": [
    "df_all.head()"
   ]
  },
  {
   "cell_type": "code",
   "execution_count": 12,
   "metadata": {
    "collapsed": true
   },
   "outputs": [],
   "source": [
    "# create database for all the user \n",
    "dbname = 'spire_user'\n",
    "username = 'Xin'\n",
    "engine = create_engine('postgres://%s@localhost/%s'%(username,dbname))\n",
    "## create a database (if it doesn't exist)\n",
    "if not database_exists(engine.url):\n",
    "    create_database(engine.url)"
   ]
  },
  {
   "cell_type": "code",
   "execution_count": 13,
   "metadata": {
    "collapsed": true
   },
   "outputs": [],
   "source": [
    "df_short = df_all[df_all.md5 != df_all.md5.value_counts().index[0]] # load the data into database except the first user's data\n",
    "usr_id = df_all.md5.value_counts().index[1:]\n",
    "user_id = pd.DataFrame(usr_id, columns = ['md5'])"
   ]
  },
  {
   "cell_type": "code",
   "execution_count": 15,
   "metadata": {
    "collapsed": false
   },
   "outputs": [],
   "source": [
    "df_short.to_sql('user_data', engine, if_exists='replace')"
   ]
  },
  {
   "cell_type": "code",
   "execution_count": 14,
   "metadata": {
    "collapsed": false
   },
   "outputs": [],
   "source": [
    "user_id.to_sql('user_id', engine, if_exists='replace')"
   ]
  },
  {
   "cell_type": "code",
   "execution_count": null,
   "metadata": {
    "collapsed": true
   },
   "outputs": [],
   "source": [
    "for i in range(180): # plotting users data \n",
    "    userid = i\n",
    "    # query\n",
    "    sql_query = \"SELECT * FROM user_data as ud INNER JOIN user_id as ui ON ud.md5 = ui.md5 WHERE ui.index = %i;\" %(userid)\n",
    "    data_from_sql = pd.read_sql_query(sql_query,con)\n",
    "    outputdir = \"/Users/Xin/Desktop/insight/bin/graphs/user\" + str(userid)\n",
    "    make_graph.plot_min_hist(data_from_sql, outputdir)\n",
    "    make_graph.plot_weekday(data_from_sql, outputdir)\n",
    "    make_graph.plot_days(data_from_sql, outputdir)\n",
    "    make_graph.plot_month(data_from_sql, outputdir)\n",
    "    make_graph.plot_daily(data_from_sql, outputdir)"
   ]
  }
 ],
 "metadata": {
  "kernelspec": {
   "display_name": "Python 2",
   "language": "python",
   "name": "python2"
  },
  "language_info": {
   "codemirror_mode": {
    "name": "ipython",
    "version": 2
   },
   "file_extension": ".py",
   "mimetype": "text/x-python",
   "name": "python",
   "nbconvert_exporter": "python",
   "pygments_lexer": "ipython2",
   "version": "2.7.12"
  }
 },
 "nbformat": 4,
 "nbformat_minor": 1
}
